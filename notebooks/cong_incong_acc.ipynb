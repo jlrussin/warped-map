{
 "cells": [
  {
   "cell_type": "markdown",
   "id": "e032f570",
   "metadata": {},
   "source": [
    "# Comparison of accuracy on congruent vs. incongruent trials"
   ]
  },
  {
   "cell_type": "code",
   "execution_count": 25,
   "id": "38e15cca",
   "metadata": {},
   "outputs": [
    {
     "name": "stdout",
     "output_type": "stream",
     "text": [
      "/Users/Jake/OReilly_Lab/projects/COGS/warp/warp/warped-map/notebooks\n"
     ]
    }
   ],
   "source": [
    "%cd /Users/Jake/OReilly_Lab/projects/COGS/warp/warp/warped-map/notebooks/"
   ]
  },
  {
   "cell_type": "code",
   "execution_count": 26,
   "id": "80e9e41f",
   "metadata": {},
   "outputs": [],
   "source": [
    "import os\n",
    "import pickle\n",
    "import numpy as np\n",
    "import matplotlib.pyplot as plt\n",
    "\n",
    "from scipy.stats import binom_test"
   ]
  },
  {
   "cell_type": "markdown",
   "id": "b48252b8",
   "metadata": {},
   "source": [
    "#### Function for loading results"
   ]
  },
  {
   "cell_type": "code",
   "execution_count": 27,
   "id": "98c87098",
   "metadata": {},
   "outputs": [],
   "source": [
    "def load_results(results_fn, accs_type='train_accs'):\n",
    "    results_dir = '../../results/'\n",
    "    results_path = os.path.join(results_dir,results_fn)\n",
    "    \n",
    "    with open(results_path, 'rb') as f:\n",
    "        data = pickle.load(f)\n",
    "        \n",
    "    results = data['results']\n",
    "    cong_accs = []\n",
    "    incong_accs = []\n",
    "    for run in results:\n",
    "        cong_accs.append([s['cong_acc'] for s in run[accs_type]])\n",
    "        incong_accs.append([s['incong_acc'] for s in run[accs_type]])\n",
    "    cong_accs = np.array(cong_accs)\n",
    "    incong_accs = np.array(incong_accs)\n",
    "    return cong_accs, incong_accs"
   ]
  },
  {
   "cell_type": "markdown",
   "id": "c283b422",
   "metadata": {},
   "source": [
    "#### Function for testing whether accuracies are significantly different from chance"
   ]
  },
  {
   "cell_type": "markdown",
   "id": "439aa59a",
   "metadata": {},
   "source": [
    "Binomial test assuming that samples from all runs are i.i.d.\n",
    "\n",
    "Train set = 160 samples (80 congruent, 80 incongruent)\n",
    "\n",
    "Test set = 32 samples (16 congruent, 16 incongruent)\n",
    "\n",
    "All  = 384 samples (192 congruent, 192 incongruent)\n",
    "\n",
    "(The reason \"All\" is more than 160+32 is that a lot of samples were excluded from both train and test based on the fact that train only had 1-rank differences and test had to have the \"hubs\" mediating relationships)"
   ]
  },
  {
   "cell_type": "code",
   "execution_count": 28,
   "id": "15a5ab0e",
   "metadata": {},
   "outputs": [],
   "source": [
    "def get_significance(accs, accs_type):\n",
    "    n_runs, n_checkpoints = cong_accs.shape\n",
    "    \n",
    "    # Number of trials per run\n",
    "    if accs_type == 'train_accs':\n",
    "        n = 64\n",
    "    elif accs_type == 'test_accs':\n",
    "        n = 12\n",
    "    elif accs_type == 'analyze_accs':\n",
    "        n = 144\n",
    "    N = n*n_runs # total number of trials\n",
    "    \n",
    "    # Convert accuracies to successes\n",
    "    successes = accs * n\n",
    "    for s in successes.flatten():\n",
    "        if not s.is_integer():\n",
    "            print(s)\n",
    "    successes = np.sum(successes, axis=0)\n",
    "    \n",
    "    # Binomial test\n",
    "    p_vals = []\n",
    "    for s in successes:\n",
    "        p_val = binom_test(s, N, p=0.5)\n",
    "        p_vals.append(p_val)\n",
    "    \n",
    "    return p_vals\n",
    "    \n",
    "    \n",
    "    "
   ]
  },
  {
   "cell_type": "markdown",
   "id": "1732c443",
   "metadata": {},
   "source": [
    "#### Function for plotting accuracies"
   ]
  },
  {
   "cell_type": "code",
   "execution_count": 29,
   "id": "bca1e57d",
   "metadata": {},
   "outputs": [],
   "source": [
    "def plot_accuracy(cong_accs, incong_accs, cong_p, incong_p, analyze_every, title, save_fn):\n",
    "    n_runs, n_checkpoints = cong_accs.shape\n",
    "\n",
    "    # Compute mean and standard deviation for error bars\n",
    "    cong_mean = np.mean(cong_accs, axis=0)\n",
    "    incong_mean = np.mean(incong_accs, axis=0)\n",
    "\n",
    "    cong_sem = np.std(cong_accs, axis=0) / np.sqrt(len(cong_accs))\n",
    "    incong_sem = np.std(incong_accs, axis=0) / np.sqrt(len(incong_accs))\n",
    "    \n",
    "    # Plot\n",
    "    fig, ax = plt.subplots()\n",
    "    x = np.arange(n_checkpoints)*analyze_every\n",
    "    ax.errorbar(x, cong_mean, yerr=cong_sem, c='tab:green')\n",
    "    ax.errorbar(x, incong_mean, yerr=incong_sem, c='tab:orange')\n",
    "    plt.xlabel('Steps')\n",
    "    plt.ylabel('Accuracy')\n",
    "    plt.ylim([-0.1,1.1])\n",
    "    plt.title(\"Accuracy on congruent trials improves first\")\n",
    "    ax.legend([\"Congruent\", \"Incongruent\"])\n",
    "    plt.axhline(y=0.5, color='black', linestyle='--')\n",
    "    \n",
    "    # Add asterisks for significance level\n",
    "    for i in range(n_checkpoints):\n",
    "        x_coord = x[i]\n",
    "        y_coord_cong = cong_mean[i]\n",
    "        y_coord_incong = incong_mean[i]\n",
    "        if cong_p[i] < 0.05:\n",
    "            plt.plot(x_coord, y_coord_cong, marker='x', color='blue')\n",
    "        if incong_p[i] < 0.05:\n",
    "            plt.plot(x_coord, y_coord_incong, marker='x', color='blue')\n",
    "    \n",
    "    \n",
    "    # Save figure\n",
    "    if save_fn is not None:\n",
    "        plt.savefig(save_fn, dpi=1000, format='eps', bbox_inches='tight')\n",
    "        \n",
    "    plt.show()"
   ]
  },
  {
   "cell_type": "markdown",
   "id": "feb3ddfd",
   "metadata": {},
   "source": [
    "## MLP"
   ]
  },
  {
   "cell_type": "markdown",
   "id": "429c014e",
   "metadata": {},
   "source": [
    "#### Accuracies on train samples"
   ]
  },
  {
   "cell_type": "code",
   "execution_count": 30,
   "id": "4d7b851b",
   "metadata": {},
   "outputs": [],
   "source": [
    "results_fn = 'mlp.P'\n",
    "accs_type = 'train_accs'\n",
    "analyze_every = 50\n",
    "title = \"MLP\"\n",
    "save_fn = '../../figures/mlp_cong_incong_acc_train.eps'"
   ]
  },
  {
   "cell_type": "code",
   "execution_count": 31,
   "id": "bc9c2e4f",
   "metadata": {},
   "outputs": [
    {
     "name": "stderr",
     "output_type": "stream",
     "text": [
      "The PostScript backend does not support transparency; partially transparent artists will be rendered opaque.\n",
      "The PostScript backend does not support transparency; partially transparent artists will be rendered opaque.\n"
     ]
    },
    {
     "data": {
      "image/png": "[encoded data removed]",
      "text/plain": [
       "<Figure size 432x288 with 1 Axes>"
      ]
     },
     "metadata": {
      "needs_background": "light"
     },
     "output_type": "display_data"
    }
   ],
   "source": [
    "cong_accs, incong_accs = load_results(results_fn, accs_type)\n",
    "cong_p = get_significance(cong_accs, accs_type)\n",
    "incong_p = get_significance(incong_accs, accs_type)\n",
    "plot_accuracy(cong_accs, incong_accs, cong_p, incong_p, analyze_every, title, save_fn)"
   ]
  },
  {
   "cell_type": "markdown",
   "id": "6e6ac198",
   "metadata": {},
   "source": [
    "#### Accuracies on test samples"
   ]
  },
  {
   "cell_type": "code",
   "execution_count": 32,
   "id": "b66ef3a5",
   "metadata": {},
   "outputs": [],
   "source": [
    "results_fn = 'mlp.P'\n",
    "accs_type = 'test_accs'\n",
    "analyze_every = 50\n",
    "title = \"MLP\"\n",
    "save_fn = '../../figures/mlp_cong_incong_acc_test.eps'"
   ]
  },
  {
   "cell_type": "code",
   "execution_count": 33,
   "id": "36d3b76a",
   "metadata": {},
   "outputs": [
    {
     "name": "stderr",
     "output_type": "stream",
     "text": [
      "The PostScript backend does not support transparency; partially transparent artists will be rendered opaque.\n",
      "The PostScript backend does not support transparency; partially transparent artists will be rendered opaque.\n"
     ]
    },
    {
     "data": {
      "image/png": "[encoded data removed]",
      "text/plain": [
       "<Figure size 432x288 with 1 Axes>"
      ]
     },
     "metadata": {
      "needs_background": "light"
     },
     "output_type": "display_data"
    }
   ],
   "source": [
    "cong_accs, incong_accs = load_results(results_fn, accs_type)\n",
    "cong_p = get_significance(cong_accs, accs_type)\n",
    "incong_p = get_significance(incong_accs, accs_type)\n",
    "plot_accuracy(cong_accs, incong_accs, cong_p, incong_p, analyze_every, title, save_fn)"
   ]
  },
  {
   "cell_type": "markdown",
   "id": "53c32e68",
   "metadata": {},
   "source": [
    "#### Accuracies on all samples"
   ]
  },
  {
   "cell_type": "code",
   "execution_count": 34,
   "id": "1fa3a9b3",
   "metadata": {},
   "outputs": [],
   "source": [
    "results_fn = 'mlp.P'\n",
    "accs_type = 'analyze_accs'\n",
    "analyze_every = 50\n",
    "title = \"MLP\"\n",
    "save_fn = '../../figures/mlp_cong_incong_acc_all.eps'"
   ]
  },
  {
   "cell_type": "code",
   "execution_count": 35,
   "id": "621cb5c6",
   "metadata": {},
   "outputs": [
    {
     "name": "stderr",
     "output_type": "stream",
     "text": [
      "The PostScript backend does not support transparency; partially transparent artists will be rendered opaque.\n",
      "The PostScript backend does not support transparency; partially transparent artists will be rendered opaque.\n"
     ]
    },
    {
     "data": {
      "image/png": "[encoded data removed]",
      "text/plain": [
       "<Figure size 432x288 with 1 Axes>"
      ]
     },
     "metadata": {
      "needs_background": "light"
     },
     "output_type": "display_data"
    }
   ],
   "source": [
    "cong_accs, incong_accs = load_results(results_fn, accs_type)\n",
    "cong_p = get_significance(cong_accs, accs_type)\n",
    "incong_p = get_significance(incong_accs, accs_type)\n",
    "plot_accuracy(cong_accs, incong_accs, cong_p, incong_p, analyze_every, title, save_fn)"
   ]
  },
  {
   "cell_type": "markdown",
   "id": "9bfffdb8",
   "metadata": {},
   "source": [
    "## RNN"
   ]
  },
  {
   "cell_type": "markdown",
   "id": "e22798c5",
   "metadata": {},
   "source": [
    "#### Accuracies on train set"
   ]
  },
  {
   "cell_type": "code",
   "execution_count": 99,
   "id": "f073cc7c",
   "metadata": {},
   "outputs": [],
   "source": [
    "results_fn = 'rnn.P'\n",
    "analyze_every = 50\n",
    "accs_type = 'train_accs'\n",
    "title = \"RNN\"\n",
    "save_fn = '../../figures/rnn_cong_incong_acc_train.eps'"
   ]
  },
  {
   "cell_type": "code",
   "execution_count": 100,
   "id": "7160131d",
   "metadata": {},
   "outputs": [
    {
     "name": "stderr",
     "output_type": "stream",
     "text": [
      "The PostScript backend does not support transparency; partially transparent artists will be rendered opaque.\n",
      "The PostScript backend does not support transparency; partially transparent artists will be rendered opaque.\n"
     ]
    },
    {
     "data": {
      "image/png": "[encoded data removed]",
      "text/plain": [
       "<Figure size 432x288 with 1 Axes>"
      ]
     },
     "metadata": {
      "needs_background": "light"
     },
     "output_type": "display_data"
    }
   ],
   "source": [
    "cong_accs, incong_accs = load_results(results_fn, accs_type)\n",
    "cong_p = get_significance(cong_accs, accs_type)\n",
    "incong_p = get_significance(incong_accs, accs_type)\n",
    "plot_accuracy(cong_accs, incong_accs, cong_p, incong_p, analyze_every, title, save_fn)"
   ]
  },
  {
   "cell_type": "markdown",
   "id": "4ee75d44",
   "metadata": {},
   "source": [
    "#### Accuracies on test set"
   ]
  },
  {
   "cell_type": "code",
   "execution_count": 38,
   "id": "edca08ef",
   "metadata": {},
   "outputs": [],
   "source": [
    "results_fn = 'rnn.P'\n",
    "analyze_every = 50\n",
    "accs_type = 'test_accs'\n",
    "title = \"RNN\"\n",
    "save_fn = '../../figures/rnn_cong_incong_acc_test.eps'"
   ]
  },
  {
   "cell_type": "code",
   "execution_count": 39,
   "id": "62f909f1",
   "metadata": {},
   "outputs": [
    {
     "name": "stderr",
     "output_type": "stream",
     "text": [
      "The PostScript backend does not support transparency; partially transparent artists will be rendered opaque.\n",
      "The PostScript backend does not support transparency; partially transparent artists will be rendered opaque.\n"
     ]
    },
    {
     "data": {
      "image/png": "[encoded data removed]",
      "text/plain": [
       "<Figure size 432x288 with 1 Axes>"
      ]
     },
     "metadata": {
      "needs_background": "light"
     },
     "output_type": "display_data"
    }
   ],
   "source": [
    "cong_accs, incong_accs = load_results(results_fn, accs_type)\n",
    "cong_p = get_significance(cong_accs, accs_type)\n",
    "incong_p = get_significance(incong_accs, accs_type)\n",
    "plot_accuracy(cong_accs, incong_accs, cong_p, incong_p, analyze_every, title, save_fn)"
   ]
  },
  {
   "cell_type": "markdown",
   "id": "1fd93078",
   "metadata": {},
   "source": [
    "#### Accuracies on all samples"
   ]
  },
  {
   "cell_type": "code",
   "execution_count": 42,
   "id": "ea87f88e",
   "metadata": {},
   "outputs": [],
   "source": [
    "results_fn = 'rnn.P'\n",
    "analyze_every = 50\n",
    "accs_type = 'analyze_accs'\n",
    "title = \"RNN\"\n",
    "save_fn = '../../figures/rnn_cong_incong_acc_all.eps'"
   ]
  },
  {
   "cell_type": "code",
   "execution_count": 43,
   "id": "06b657b2",
   "metadata": {},
   "outputs": [
    {
     "name": "stderr",
     "output_type": "stream",
     "text": [
      "The PostScript backend does not support transparency; partially transparent artists will be rendered opaque.\n",
      "The PostScript backend does not support transparency; partially transparent artists will be rendered opaque.\n"
     ]
    },
    {
     "data": {
      "image/png": "[encoded data removed]",
      "text/plain": [
       "<Figure size 432x288 with 1 Axes>"
      ]
     },
     "metadata": {
      "needs_background": "light"
     },
     "output_type": "display_data"
    }
   ],
   "source": [
    "cong_accs, incong_accs = load_results(results_fn, accs_type)\n",
    "cong_p = get_significance(cong_accs, accs_type)\n",
    "incong_p = get_significance(incong_accs, accs_type)\n",
    "plot_accuracy(cong_accs, incong_accs, cong_p, incong_p, analyze_every, title, save_fn)"
   ]
  },
  {
   "cell_type": "markdown",
   "id": "444cbbea",
   "metadata": {},
   "source": [
    "### Figure out why incongruent accuracy is less than 50%"
   ]
  },
  {
   "cell_type": "code",
   "execution_count": 17,
   "id": "dd1b736e",
   "metadata": {},
   "outputs": [
    {
     "name": "stdout",
     "output_type": "stream",
     "text": [
      "/Users/Jake/OReilly_Lab/projects/COGS/warp/warp/warped-map\n"
     ]
    }
   ],
   "source": [
    "%cd /Users/Jake/OReilly_Lab/projects/COGS/warp/warp/warped-map/\n",
    "from data import get_loaders"
   ]
  },
  {
   "cell_type": "code",
   "execution_count": 22,
   "id": "09bf4edb",
   "metadata": {},
   "outputs": [],
   "source": [
    "class Arguments():\n",
    "    def __init__(self):\n",
    "        pass\n",
    "args = Arguments()\n",
    "args.grid_size = 4\n",
    "args.use_images = False\n",
    "args.image_dir = None\n",
    "args.bs = 32\n",
    "args.training_regime = 'grouped'\n",
    "args.inner_4x4 = False\n",
    "train_loader, test_loader, analyze_loader = get_loaders(args)"
   ]
  },
  {
   "cell_type": "code",
   "execution_count": 77,
   "id": "640082ea",
   "metadata": {},
   "outputs": [],
   "source": [
    "def wins_model_acc(loader):\n",
    "    wins = {}\n",
    "    for batch in train_loader:\n",
    "        ys = batch[3]\n",
    "        info = batch[4]\n",
    "        locs1 = info['loc1']\n",
    "        locs2 = info['loc2']\n",
    "        for loc1, loc2, y in zip(locs1, locs2, ys):\n",
    "            if loc1 not in wins:\n",
    "                wins[loc1] = 0\n",
    "            if loc2 not in wins:\n",
    "                wins[loc2] = 0\n",
    "            if y == 0:\n",
    "                wins[loc2] += 1\n",
    "            elif y == 1:\n",
    "                wins[loc1] += 1\n",
    "\n",
    "    cong_correct = []\n",
    "    incong_correct = []\n",
    "    for batch in loader:\n",
    "        ys = batch[3]\n",
    "        info = batch[4]\n",
    "        locs1 = info['loc1']\n",
    "        locs2 = info['loc2']\n",
    "        congs = info['cong']\n",
    "        for loc1, loc2, y, cong in zip(locs1, locs2, ys, congs):\n",
    "            if wins[loc1] > wins[loc2]:\n",
    "                pred = 1\n",
    "            elif wins[loc1] < wins[loc2]:\n",
    "                pred = 0\n",
    "            else:\n",
    "                pred = 0.5\n",
    "            correct = 1 - abs(pred - y)\n",
    "            if cong == 1:\n",
    "                cong_correct.append(correct)\n",
    "            elif cong == -1:\n",
    "                incong_correct.append(correct)\n",
    "    print(\"Congruent Accuracy:\", np.mean(cong_correct))\n",
    "    print(\"Incongruent Accuracy:\", np.mean(incong_correct))\n",
    "    return wins"
   ]
  },
  {
   "cell_type": "code",
   "execution_count": 95,
   "id": "969eb268",
   "metadata": {},
   "outputs": [
    {
     "name": "stdout",
     "output_type": "stream",
     "text": [
      "Congruent Accuracy: 0.796875\n",
      "Incongruent Accuracy: 0.390625\n"
     ]
    }
   ],
   "source": [
    "wins = wins_model_acc(train_loader)"
   ]
  },
  {
   "cell_type": "code",
   "execution_count": 96,
   "id": "4f8ef1bc",
   "metadata": {},
   "outputs": [
    {
     "name": "stdout",
     "output_type": "stream",
     "text": [
      "Congruent Accuracy: 0.9166666666666666\n",
      "Incongruent Accuracy: 0.5\n"
     ]
    }
   ],
   "source": [
    "wins = wins_model_acc(test_loader)"
   ]
  },
  {
   "cell_type": "code",
   "execution_count": 97,
   "id": "e9106625",
   "metadata": {},
   "outputs": [
    {
     "name": "stdout",
     "output_type": "stream",
     "text": [
      "Congruent Accuracy: 0.8472222222222222\n",
      "Incongruent Accuracy: 0.5\n"
     ]
    }
   ],
   "source": [
    "wins = wins_model_acc(analyze_loader)"
   ]
  },
  {
   "cell_type": "code",
   "execution_count": 98,
   "id": "33f9df59",
   "metadata": {},
   "outputs": [
    {
     "name": "stdout",
     "output_type": "stream",
     "text": [
      "(0, 0) : 0\n",
      "(0, 1) : 4\n",
      "(0, 2) : 10\n",
      "(0, 3) : 6\n",
      "(1, 0) : 8\n",
      "(1, 1) : 12\n",
      "(1, 2) : 14\n",
      "(1, 3) : 10\n",
      "(2, 0) : 6\n",
      "(2, 1) : 14\n",
      "(2, 2) : 16\n",
      "(2, 3) : 16\n",
      "(3, 0) : 6\n",
      "(3, 1) : 14\n",
      "(3, 2) : 12\n",
      "(3, 3) : 12\n"
     ]
    }
   ],
   "source": [
    "for k in sorted(wins.keys()):\n",
    "    print(k, \":\", wins[k])"
   ]
  },
  {
   "cell_type": "code",
   "execution_count": null,
   "id": "0cd70c85",
   "metadata": {},
   "outputs": [],
   "source": []
  }
 ],
 "metadata": {
  "kernelspec": {
   "display_name": "Python 3",
   "language": "python",
   "name": "python3"
  },
  "language_info": {
   "codemirror_mode": {
    "name": "ipython",
    "version": 3
   },
   "file_extension": ".py",
   "mimetype": "text/x-python",
   "name": "python",
   "nbconvert_exporter": "python",
   "pygments_lexer": "ipython3",
   "version": "3.6.13"
  }
 },
 "nbformat": 4,
 "nbformat_minor": 5
}
